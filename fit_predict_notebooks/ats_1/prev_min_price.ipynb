{
 "cells": [
  {
   "cell_type": "code",
   "execution_count": null,
   "metadata": {},
   "outputs": [],
   "source": [
    "import pandas as pd\n",
    "import numpy as np\n",
    "import datetime\n",
    "\n",
    "prices = pd.read_csv('/Users/arshvetsoff/Desktop/DIPLOMA/atsenergo_2017_2023_1.csv')\n",
    "prices['is_mon'] = 0\n",
    "prices['is_sat'] = 0\n",
    "prices['is_sun'] = 0\n",
    "prices.index = prices.timestamp\n",
    "prices.drop(columns=['timestamp'], inplace=True)\n",
    "prices.index = pd.to_datetime(prices.index)\n",
    "#start from 13-03-2020 till 12-03-2021 (365 days)\n",
    "prices = prices.iloc[28008:28008+12264]\n",
    "prices = prices.resample('D').mean()\n",
    "prices['is_mon'] = prices.index.weekday == 0\n",
    "prices['is_sat'] = prices.index.weekday == 5\n",
    "prices['is_sun'] = prices.index.weekday == 6\n"
   ]
  },
  {
   "cell_type": "code",
   "execution_count": null,
   "metadata": {},
   "outputs": [],
   "source": [
    "mins = pd.read_csv('/Users/arshvetsoff/Desktop/DIPLOMA/atsenergo_2017_2023_1.csv')\n",
    "mins.index = mins.timestamp\n",
    "mins.drop(columns=['timestamp'], inplace=True)\n",
    "mins.index = pd.to_datetime(mins.index)\n",
    "mins = mins.iloc[28008:28008+12264]\n",
    "mins = mins.resample('D').min()"
   ]
  },
  {
   "cell_type": "code",
   "execution_count": null,
   "metadata": {},
   "outputs": [],
   "source": [
    "temperatures = pd.read_csv('/Users/arshvetsoff/Downloads/temperatures_1.txt', sep='\\t')\n",
    "temperatures['datetime_str'] = temperatures['date'] + ' ' + temperatures['hour']\n",
    "temperatures['temperature'] = np.log(9/5 * temperatures['temp'] + 32)\n",
    "temperatures['temperature'].fillna(0, inplace=True)\n",
    "temperatures['datetime'] = pd.to_datetime(temperatures['datetime_str'], format='%d %B %Y %H:%M')\n",
    "temperatures.index = temperatures['datetime']\n",
    "temperatures.drop(columns=['datetime', 'date', 'hour', 'datetime_str', 'temp'], inplace=True)\n",
    "temperatures = temperatures.resample('D').mean()"
   ]
  },
  {
   "cell_type": "code",
   "execution_count": null,
   "metadata": {},
   "outputs": [],
   "source": [
    "data = pd.merge(prices, mins, right_index=True, left_index=True)\n",
    "data.head()"
   ]
  },
  {
   "cell_type": "code",
   "execution_count": null,
   "metadata": {},
   "outputs": [],
   "source": [
    "data = pd.merge(data, temperatures, right_index=True, left_index=True)\n",
    "data['prev_price'] = data['price_y'].shift(1)\n",
    "data.fillna(1, inplace=True)\n",
    "data.head()"
   ]
  },
  {
   "cell_type": "code",
   "execution_count": null,
   "metadata": {},
   "outputs": [],
   "source": [
    "train_df = data.iloc[:397]\n",
    "train_df.index = train_df.index.astype('period[D]')\n",
    "prices_train = np.log(train_df['price_x'].values.astype(float))\n",
    "mondays_train = train_df.is_mon.values.astype(int)\n",
    "saturdays_train = train_df.is_sat.values.astype(int)\n",
    "sundays_train = train_df.is_sun.values.astype(int)\n",
    "mins_train = np.log(train_df['prev_price'].values.astype(float))\n",
    "temperatures_train = train_df.temperature.values.astype(float)\n",
    "\n",
    "test_df = data.iloc[397:]\n",
    "test_df.index = test_df.index.astype('period[D]')\n",
    "prices_test = np.log(test_df['price_x'].values.astype(float))\n",
    "mondays_test = test_df.is_mon.values.astype(int)\n",
    "saturdays_test = test_df.is_sat.values.astype(int)\n",
    "sundays_test = test_df.is_sun.values.astype(int)\n",
    "mins_test = np.log(test_df['prev_price'].values.astype(float))\n",
    "temperatures_test = test_df.temperature.values.astype(float)\n",
    "\n",
    "len(prices_train), len(prices_test)"
   ]
  },
  {
   "cell_type": "code",
   "execution_count": null,
   "metadata": {},
   "outputs": [],
   "source": [
    "train_data = {\n",
    "    'N' : len(prices_train),\n",
    "    'y' : list(prices_train),\n",
    "    'temp' : list(temperatures_train),\n",
    "    'min_y' : list(mins_train),\n",
    "    'D_Sat' : list(saturdays_train),\n",
    "    'D_Sun' : list(sundays_train),\n",
    "    'D_Mon' : list(mondays_train)\n",
    "}\n",
    "\n",
    "test_data = []\n",
    "for i in range(len(prices_test)):\n",
    "    test_data.append({\n",
    "        'y' : prices_test[i],\n",
    "        'temp' : temperatures_test[i],\n",
    "        'min_y' : mins_test[i],\n",
    "        'D_Sat' : saturdays_test[i],\n",
    "        'D_Sun' : sundays_test[i],\n",
    "        'D_Mon' : mondays_test[i]\n",
    "    })\n",
    "\n",
    "test_data = test_data[:100]"
   ]
  },
  {
   "cell_type": "code",
   "execution_count": null,
   "metadata": {},
   "outputs": [],
   "source": [
    "train_data['min_y'][:5]"
   ]
  },
  {
   "cell_type": "code",
   "execution_count": null,
   "metadata": {},
   "outputs": [],
   "source": [
    "### FIT MODEL\n",
    "from cmdstanpy import CmdStanModel\n",
    "model = CmdStanModel(stan_file='/Users/arshvetsoff/Desktop/DIPLOMA/FUCKING_STAN_PREDICTIONS/prod_models/ats_1/temperature_min.stan')"
   ]
  },
  {
   "cell_type": "code",
   "execution_count": null,
   "metadata": {},
   "outputs": [],
   "source": [
    "fit = model.sample(data=train_data, iter_sampling=120000, iter_warmup=800000, chains=1, adapt_delta=0.95)"
   ]
  },
  {
   "cell_type": "code",
   "execution_count": null,
   "metadata": {},
   "outputs": [],
   "source": [
    "fit.save_csvfiles('/Users/arshvetsoff/Desktop/DIPLOMA/FUCKING_STAN_PREDICTIONS/prod_checkpoints/ats_1')"
   ]
  },
  {
   "cell_type": "code",
   "execution_count": null,
   "metadata": {},
   "outputs": [],
   "source": [
    "predicted_values = []\n",
    "\n",
    "cur_fit = fit.summary().copy().loc[:, 'Mean'].to_dict()\n",
    "print('copied initial fit')\n",
    "train_data = {\n",
    "    'N' : len(prices_train),\n",
    "    'y' : list(prices_train),\n",
    "    'temp' : list(temperatures_train),\n",
    "    'min_y' : list(mins_train),\n",
    "    'D_Sat' : list(saturdays_train),\n",
    "    'D_Sun' : list(sundays_train),\n",
    "    'D_Mon' : list(mondays_train)\n",
    "}\n",
    "\n",
    "cnt = 0\n",
    "\n",
    "for elem in test_data:\n",
    "    train_data['N'] += 1\n",
    "    train_data['y'].append(elem['y'])\n",
    "    train_data['temp'].append(elem['temp'])\n",
    "    train_data['min_y'].append(elem['min_y'])\n",
    "    train_data['D_Sat'].append(elem['D_Sat'])\n",
    "    train_data['D_Sun'].append(elem['D_Sun'])\n",
    "    train_data['D_Mon'].append(elem['D_Mon'])\n",
    "\n",
    "    prev_fit = cur_fit.copy()\n",
    "    print('copied previous fit')\n",
    "    cur_fit = model.sample(\n",
    "        data=train_data,\n",
    "        iter_sampling=8000,\n",
    "        iter_warmup=5000,\n",
    "        chains=1,\n",
    "        inits=prev_fit  # Start from the last parameter means\n",
    "    )\n",
    "    predicted_values.append(cur_fit.stan_variable('prediction'))\n",
    "    cur_fit = cur_fit.summary().loc[:, 'Mean'].to_dict()"
   ]
  },
  {
   "cell_type": "code",
   "execution_count": null,
   "metadata": {},
   "outputs": [],
   "source": [
    "predicted_values"
   ]
  }
 ],
 "metadata": {
  "kernelspec": {
   "display_name": "diploma_venv",
   "language": "python",
   "name": "python3"
  },
  "language_info": {
   "codemirror_mode": {
    "name": "ipython",
    "version": 3
   },
   "file_extension": ".py",
   "mimetype": "text/x-python",
   "name": "python",
   "nbconvert_exporter": "python",
   "pygments_lexer": "ipython3",
   "version": "3.11.6"
  }
 },
 "nbformat": 4,
 "nbformat_minor": 2
}
