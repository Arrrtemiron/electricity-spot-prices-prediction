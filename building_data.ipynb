{
 "cells": [
  {
   "cell_type": "code",
   "execution_count": 86,
   "metadata": {},
   "outputs": [],
   "source": [
    "import pandas as pd\n",
    "import os"
   ]
  },
  {
   "cell_type": "code",
   "execution_count": 87,
   "metadata": {},
   "outputs": [],
   "source": [
    "def prepare_file(data):\n",
    "    data.rename(columns={'HOURBEGINNING_TIME' : 'timestamp', 'JCPL' : 'price'}, inplace=True)\n",
    "    data['timestamp'] = pd.to_datetime(data['timestamp'], format='%d-%b-%Y %H:%M:%S')\n",
    "    data['price'] = data['price'].apply(lambda x: float(x.replace('$', '')))\n",
    "    data.sort_values(by='timestamp', inplace=True)\n",
    "    data.reset_index(inplace=True)\n",
    "    data.drop(columns=['index'], inplace=True)\n",
    "\n",
    "    return data"
   ]
  },
  {
   "cell_type": "code",
   "execution_count": 88,
   "metadata": {},
   "outputs": [],
   "source": [
    "final_data = pd.read_csv('/Users/artemiyshvetsov/Desktop/DIPLOMA/JCPL_PJM/2017-11-17_2017-12-31.csv')\n",
    "sum = len(final_data)\n",
    "final_data = prepare_file(final_data)\n",
    "\n",
    "files = os.listdir('JCPL_PJM/')\n",
    "\n",
    "for elem in files:\n",
    "    if elem != '2017-11-17_2017-12-31.csv':\n",
    "        data = pd.read_csv('JCPL_PJM/' + elem)\n",
    "        data = prepare_file(data)\n",
    "        final_data = pd.concat([final_data, data])\n",
    "\n",
    "final_data.sort_values(by='timestamp', inplace=True)"
   ]
  },
  {
   "cell_type": "code",
   "execution_count": 89,
   "metadata": {},
   "outputs": [
    {
     "data": {
      "text/plain": [
       "36079"
      ]
     },
     "execution_count": 89,
     "metadata": {},
     "output_type": "execute_result"
    }
   ],
   "source": [
    "len(final_data)"
   ]
  },
  {
   "cell_type": "code",
   "execution_count": 90,
   "metadata": {},
   "outputs": [
    {
     "data": {
      "text/html": [
       "<div>\n",
       "<style scoped>\n",
       "    .dataframe tbody tr th:only-of-type {\n",
       "        vertical-align: middle;\n",
       "    }\n",
       "\n",
       "    .dataframe tbody tr th {\n",
       "        vertical-align: top;\n",
       "    }\n",
       "\n",
       "    .dataframe thead th {\n",
       "        text-align: right;\n",
       "    }\n",
       "</style>\n",
       "<table border=\"1\" class=\"dataframe\">\n",
       "  <thead>\n",
       "    <tr style=\"text-align: right;\">\n",
       "      <th></th>\n",
       "      <th>timestamp</th>\n",
       "      <th>price</th>\n",
       "    </tr>\n",
       "  </thead>\n",
       "  <tbody>\n",
       "    <tr>\n",
       "      <th>0</th>\n",
       "      <td>2017-11-17 00:00:00</td>\n",
       "      <td>21.68</td>\n",
       "    </tr>\n",
       "    <tr>\n",
       "      <th>1</th>\n",
       "      <td>2017-11-17 01:00:00</td>\n",
       "      <td>20.95</td>\n",
       "    </tr>\n",
       "    <tr>\n",
       "      <th>2</th>\n",
       "      <td>2017-11-17 02:00:00</td>\n",
       "      <td>20.46</td>\n",
       "    </tr>\n",
       "    <tr>\n",
       "      <th>3</th>\n",
       "      <td>2017-11-17 03:00:00</td>\n",
       "      <td>20.45</td>\n",
       "    </tr>\n",
       "    <tr>\n",
       "      <th>4</th>\n",
       "      <td>2017-11-17 04:00:00</td>\n",
       "      <td>21.58</td>\n",
       "    </tr>\n",
       "    <tr>\n",
       "      <th>...</th>\n",
       "      <td>...</td>\n",
       "      <td>...</td>\n",
       "    </tr>\n",
       "    <tr>\n",
       "      <th>36074</th>\n",
       "      <td>2021-12-31 19:00:00</td>\n",
       "      <td>22.60</td>\n",
       "    </tr>\n",
       "    <tr>\n",
       "      <th>36075</th>\n",
       "      <td>2021-12-31 20:00:00</td>\n",
       "      <td>21.45</td>\n",
       "    </tr>\n",
       "    <tr>\n",
       "      <th>36076</th>\n",
       "      <td>2021-12-31 21:00:00</td>\n",
       "      <td>20.56</td>\n",
       "    </tr>\n",
       "    <tr>\n",
       "      <th>36077</th>\n",
       "      <td>2021-12-31 22:00:00</td>\n",
       "      <td>23.98</td>\n",
       "    </tr>\n",
       "    <tr>\n",
       "      <th>36078</th>\n",
       "      <td>2021-12-31 23:00:00</td>\n",
       "      <td>21.67</td>\n",
       "    </tr>\n",
       "  </tbody>\n",
       "</table>\n",
       "<p>36079 rows × 2 columns</p>\n",
       "</div>"
      ],
      "text/plain": [
       "                timestamp  price\n",
       "0     2017-11-17 00:00:00  21.68\n",
       "1     2017-11-17 01:00:00  20.95\n",
       "2     2017-11-17 02:00:00  20.46\n",
       "3     2017-11-17 03:00:00  20.45\n",
       "4     2017-11-17 04:00:00  21.58\n",
       "...                   ...    ...\n",
       "36074 2021-12-31 19:00:00  22.60\n",
       "36075 2021-12-31 20:00:00  21.45\n",
       "36076 2021-12-31 21:00:00  20.56\n",
       "36077 2021-12-31 22:00:00  23.98\n",
       "36078 2021-12-31 23:00:00  21.67\n",
       "\n",
       "[36079 rows x 2 columns]"
      ]
     },
     "execution_count": 90,
     "metadata": {},
     "output_type": "execute_result"
    }
   ],
   "source": [
    "final_data.reset_index(inplace=True)\n",
    "final_data = final_data.drop(columns=['index'])\n",
    "final_data"
   ]
  },
  {
   "cell_type": "code",
   "execution_count": 91,
   "metadata": {},
   "outputs": [],
   "source": [
    "final_data.to_csv('JCPL_PJM_2017_2021.csv', index=False, sep=',')"
   ]
  }
 ],
 "metadata": {
  "kernelspec": {
   "display_name": "HSE_venv",
   "language": "python",
   "name": "python3"
  },
  "language_info": {
   "codemirror_mode": {
    "name": "ipython",
    "version": 3
   },
   "file_extension": ".py",
   "mimetype": "text/x-python",
   "name": "python",
   "nbconvert_exporter": "python",
   "pygments_lexer": "ipython3",
   "version": "3.11.2"
  }
 },
 "nbformat": 4,
 "nbformat_minor": 2
}
