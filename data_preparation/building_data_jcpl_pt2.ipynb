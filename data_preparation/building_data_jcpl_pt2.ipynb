{
 "cells": [
  {
   "cell_type": "code",
   "execution_count": 1,
   "metadata": {},
   "outputs": [],
   "source": [
    "import pandas as pd\n",
    "import os"
   ]
  },
  {
   "cell_type": "code",
   "execution_count": 2,
   "metadata": {},
   "outputs": [],
   "source": [
    "def prepare_file(data):\n",
    "    data = data.loc[data['pnode_name'] == 'JCPL'].reset_index()\n",
    "    data['datetime_beginning_ept'] = pd.to_datetime(data['datetime_beginning_ept'], format='%m/%d/%Y %I:%M:%S %p')\n",
    "    data.rename(columns={'datetime_beginning_ept' : 'timestamp', 'total_lmp_da' : 'price'}, inplace=True)\n",
    "    data['price'] = data['price'].round(2)\n",
    "    data = data[['timestamp', 'price']]\n",
    "    return data"
   ]
  },
  {
   "cell_type": "code",
   "execution_count": 3,
   "metadata": {},
   "outputs": [],
   "source": [
    "final_data = pd.read_csv('JCPL_PJM/' + 'da_hrl_lmps.csv', sep=',')\n",
    "final_data = prepare_file(final_data)\n",
    "\n",
    "files = [\n",
    "    'da_hrl_lmps (1).csv',\n",
    "    'da_hrl_lmps (4).csv',\n",
    "    'da_hrl_lmps (5).csv',\n",
    "    'da_hrl_lmps (2).csv',\n",
    "    'da_hrl_lmps (3).csv',\n",
    "    'da_hrl_lmps (6).csv',\n",
    "    'da_hrl_lmps (66).csv',\n",
    "    'da_hrl_lmps (7).csv',\n",
    "    'da_hrl_lmps (8).csv',\n",
    "    'da_hrl_lmps (9).csv',\n",
    "    'da_hrl_lmps (10).csv',\n",
    "    'da_hrl_lmps (11).csv'\n",
    "]\n",
    "\n",
    "for elem in files:\n",
    "    cur_file = pd.read_csv('JCPL_PJM/' + elem, sep=',')\n",
    "    cur_file = prepare_file(cur_file)\n",
    "    final_data = pd.concat([final_data, cur_file])\n",
    "\n",
    "final_data.sort_values(by='timestamp', inplace=True)\n",
    "final_data.reset_index(inplace=True)\n",
    "final_data = final_data.drop(columns=['index'])"
   ]
  },
  {
   "cell_type": "code",
   "execution_count": 4,
   "metadata": {},
   "outputs": [],
   "source": [
    "data_1 = pd.read_csv('/Users/artemiyshvetsov/Desktop/DIPLOMA/JCPL_PJM_2017_2021.csv')\n",
    "data_1['timestamp'] = pd.to_datetime(data_1['timestamp'])\n",
    "\n",
    "all_data = pd.concat([data_1, final_data])\n",
    "all_data.sort_values(by='timestamp', inplace=True)\n",
    "all_data = all_data.reset_index()\n",
    "all_data.drop(columns=['index'], inplace=True)\n",
    "all_data = all_data.drop_duplicates(subset='timestamp', keep='first')"
   ]
  },
  {
   "cell_type": "code",
   "execution_count": 5,
   "metadata": {},
   "outputs": [
    {
     "name": "stdout",
     "output_type": "stream",
     "text": [
      "OK\n",
      "(53635, 2)\n",
      "2018-03-11 03:00:00\t2018-03-11 01:00:00\t0 days 02:00:00\n",
      "2019-03-10 03:00:00\t2019-03-10 01:00:00\t0 days 02:00:00\n",
      "2020-03-08 03:00:00\t2020-03-08 01:00:00\t0 days 02:00:00\n",
      "2021-03-14 03:00:00\t2021-03-14 01:00:00\t0 days 02:00:00\n",
      "2022-03-13 03:00:00\t2022-03-13 01:00:00\t0 days 02:00:00\n",
      "2023-03-12 03:00:00\t2023-03-12 01:00:00\t0 days 02:00:00\n",
      "(53641, 2)\n"
     ]
    }
   ],
   "source": [
    "days = []\n",
    "\n",
    "for elem in all_data['timestamp']:\n",
    "    days.append(elem)   \n",
    "\n",
    "print(\"OK\")\n",
    "print(all_data.shape)\n",
    "\n",
    "for i in range(len(days) - 1):\n",
    "    if days[i + 1] - days[i] != pd.Timedelta(hours=1):\n",
    "        print(days[i + 1],  days[i], days[i + 1] - days[i], sep='\\t')\n",
    "        price_a = all_data.loc[all_data['timestamp'] == days[i]]['price'].values[0]\n",
    "        price_b = all_data.loc[all_data['timestamp'] == days[i + 1]]['price'].values[0]\n",
    "        \n",
    "        new_price = (price_a + price_b) / 2\n",
    "        new_date = days[i + 1] - pd.Timedelta(hours=1)\n",
    "\n",
    "        new_data = pd.DataFrame({'timestamp' : [new_date], 'price' : [new_price]})\n",
    "        all_data = pd.concat([all_data, new_data])\n",
    "\n",
    "print(all_data.shape)"
   ]
  },
  {
   "cell_type": "code",
   "execution_count": 6,
   "metadata": {},
   "outputs": [],
   "source": [
    "all_data.sort_values(by='timestamp', inplace=True)\n",
    "all_data.reset_index(inplace=True)\n",
    "all_data = all_data.drop(columns=['index'])"
   ]
  },
  {
   "cell_type": "code",
   "execution_count": 7,
   "metadata": {},
   "outputs": [],
   "source": [
    "days = []\n",
    "\n",
    "for elem in all_data['timestamp']:\n",
    "    days.append(elem)   \n",
    "\n",
    "\n",
    "for i in range(len(days) - 1):\n",
    "    if days[i + 1] - days[i] != pd.Timedelta(hours=1):\n",
    "        print(\"ERROR\")"
   ]
  },
  {
   "cell_type": "code",
   "execution_count": 8,
   "metadata": {},
   "outputs": [],
   "source": [
    "final_data.to_csv('JCPL_PJM_2017_2023.csv', index=False, sep=',')"
   ]
  },
  {
   "cell_type": "code",
   "execution_count": null,
   "metadata": {},
   "outputs": [],
   "source": []
  }
 ],
 "metadata": {
  "kernelspec": {
   "display_name": "HSE_venv",
   "language": "python",
   "name": "python3"
  },
  "language_info": {
   "codemirror_mode": {
    "name": "ipython",
    "version": 3
   },
   "file_extension": ".py",
   "mimetype": "text/x-python",
   "name": "python",
   "nbconvert_exporter": "python",
   "pygments_lexer": "ipython3",
   "version": "3.11.2"
  }
 },
 "nbformat": 4,
 "nbformat_minor": 2
}
